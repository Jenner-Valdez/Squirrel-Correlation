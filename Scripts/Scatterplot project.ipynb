{
 "cells": [
  {
   "cell_type": "markdown",
   "metadata": {},
   "source": [
    "# Red Squirrel Diet Study"
   ]
  },
  {
   "cell_type": "markdown",
   "metadata": {},
   "source": [
    "The following will represent a study of male and female squirrels, comparing their weight according to their age and respective diets to see how these are relative to each other."
   ]
  },
  {
   "cell_type": "code",
   "execution_count": 10,
   "metadata": {},
   "outputs": [],
   "source": [
    "#Add respective libraries for the dataset to use and plot the graphs if needed\n",
    "import seaborn as sns\n",
    "import matplotlib.pyplot as plt\n",
    "import pandas as pd"
   ]
  },
  {
   "cell_type": "code",
   "execution_count": 11,
   "metadata": {},
   "outputs": [],
   "source": [
    "#Assign the library to a variable for better access \n",
    "df = pd.read_csv('squirrel_diet.csv')"
   ]
  },
  {
   "cell_type": "code",
   "execution_count": 12,
   "metadata": {},
   "outputs": [
    {
     "name": "stdout",
     "output_type": "stream",
     "text": [
      "   sex  diet  weight\n",
      "0    0     3   1.042\n",
      "1    1     3   1.196\n",
      "2    1     2   1.401\n",
      "3    1     1   1.015\n",
      "4    0     2   1.141\n"
     ]
    }
   ],
   "source": [
    "#Print the head to check the name of columns\n",
    "print(df.head())"
   ]
  },
  {
   "cell_type": "code",
   "execution_count": 13,
   "metadata": {},
   "outputs": [
    {
     "name": "stdout",
     "output_type": "stream",
     "text": [
      "<class 'pandas.core.frame.DataFrame'>\n",
      "RangeIndex: 100 entries, 0 to 99\n",
      "Data columns (total 3 columns):\n",
      " #   Column  Non-Null Count  Dtype  \n",
      "---  ------  --------------  -----  \n",
      " 0   sex     100 non-null    int64  \n",
      " 1   diet    100 non-null    int64  \n",
      " 2   weight  100 non-null    float64\n",
      "dtypes: float64(1), int64(2)\n",
      "memory usage: 2.5 KB\n"
     ]
    }
   ],
   "source": [
    "#Print the info about the dataset\n",
    "df.info()"
   ]
  },
  {
   "cell_type": "code",
   "execution_count": 14,
   "metadata": {},
   "outputs": [],
   "source": [
    "#Make sure that the columns are in their respective data type."
   ]
  },
  {
   "cell_type": "markdown",
   "metadata": {},
   "source": [
    "We can see that we have 100 candidates for our study."
   ]
  },
  {
   "cell_type": "code",
   "execution_count": 15,
   "metadata": {},
   "outputs": [],
   "source": [
    "#Assigned sex and diet to be mapped\n",
    "df['sex'] = df['sex'].map({0: 'Male', 1: 'Female'})\n",
    "df['diet'] = df['diet'].map({1: 'A', 2: 'B', 3: 'C'})\n",
    "category_order = ['A', 'B', 'C']"
   ]
  },
  {
   "cell_type": "code",
   "execution_count": 16,
   "metadata": {},
   "outputs": [],
   "source": [
    "#We assigned Male for 0 and Female for 1 as these are int64 which makes it easier for them to be identified instead of these being objects.\n",
    "#For the different types of diets we number them as well for 1, 2, and 3 for better tracking."
   ]
  },
  {
   "cell_type": "code",
   "execution_count": 17,
   "metadata": {},
   "outputs": [
    {
     "data": {
      "text/plain": [
       "Text(0, 0.5, 'Adult Weight / lbs')"
      ]
     },
     "execution_count": 17,
     "metadata": {},
     "output_type": "execute_result"
    },
    {
     "data": {
      "image/png": "[encoded data removed]",
      "text/plain": [
       "<Figure size 640x480 with 1 Axes>"
      ]
     },
     "metadata": {},
     "output_type": "display_data"
    }
   ],
   "source": [
    "#Plot the graph and add x and y labes, include hue, colors and jitter to have them separate\n",
    "strip_plot = sns.stripplot(data=df, x='diet', y='weight', hue='sex', \n",
    "                           palette=['magenta', 'green'], jitter=0.2, size=4.5,\n",
    "                           order=category_order)\n",
    "#Assigned the pallete color for green and magenta.\n",
    "#Added jitter to make it spaced out and not all clumped on top of each other.\n",
    "#Edited the size of each circle to a smaller size to make it easier to see and recognize from each other.\n",
    "#Change the name of the labes to the respective names according to the dataset.\n",
    "strip_plot.set_xlabel('Diet Label')\n",
    "strip_plot.set_ylabel('Adult Weight / lbs')"
   ]
  },
  {
   "cell_type": "markdown",
   "metadata": {},
   "source": [
    "According to dataframe female has the highest point on B but on the picture male does. The following supports this information."
   ]
  },
  {
   "cell_type": "code",
   "execution_count": 18,
   "metadata": {},
   "outputs": [
    {
     "name": "stdout",
     "output_type": "stream",
     "text": [
      "diet\n",
      "A    1.077\n",
      "B    1.590\n",
      "C    1.274\n",
      "Name: weight, dtype: float64\n",
      "diet\n",
      "A    1.066\n",
      "B    1.979\n",
      "C    1.272\n",
      "Name: weight, dtype: float64\n"
     ]
    }
   ],
   "source": [
    "#Double check information\n",
    "print(df[df['sex'] == 'Male'].groupby('diet')['weight'].max())\n",
    "print(df[df['sex'] == 'Female'].groupby('diet')['weight'].max())"
   ]
  },
  {
   "cell_type": "markdown",
   "metadata": {},
   "source": [
    "According to the maximum and minimum, a Female squirrel has the highest weight for B diet in our dataseta and graph compare to the picture presented."
   ]
  },
  {
   "cell_type": "markdown",
   "metadata": {},
   "source": [
    "# Final conclusion\n",
    "According to our graph, and data collected. B diet seems to be the diet with more fluctuations out of all 3 of them. Having the lowest and the highest weights recorded for male and female. In a small scale of only 100 squirrels this seems like a small number but comparing diet A and C to B would allow us to see the big difference in the inconsistency that this diet has."
   ]
  }
 ],
 "metadata": {
  "kernelspec": {
   "display_name": "base",
   "language": "python",
   "name": "python3"
  },
  "language_info": {
   "codemirror_mode": {
    "name": "ipython",
    "version": 3
   },
   "file_extension": ".py",
   "mimetype": "text/x-python",
   "name": "python",
   "nbconvert_exporter": "python",
   "pygments_lexer": "ipython3",
   "version": "3.11.5"
  }
 },
 "nbformat": 4,
 "nbformat_minor": 2
}
